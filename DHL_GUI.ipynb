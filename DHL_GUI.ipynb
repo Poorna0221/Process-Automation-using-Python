{
  "cells": [
    {
      "cell_type": "code",
      "execution_count": null,
      "id": "a2b64d62",
      "metadata": {
        "id": "a2b64d62"
      },
      "outputs": [],
      "source": [
        "\n",
        "##Import Statements\n",
        "import tkinter as tk\n",
        "from tkinter import messagebox\n",
        "import PyPDF2\n",
        "import openpyxl\n",
        "from openpyxl import load_workbook\n",
        "import shutil\n",
        "from PyPDF2 import PdfReader\n",
        "import os\n",
        "import pandas as pds\n",
        "newdf=pds.DataFrame()\n",
        "\n",
        "#GUI Interface\n",
        "root=tk.Tk()\n",
        "root.title(\"DHL_Invoice_Reader\")\n",
        "\n",
        "label=tk.Label(root,text=\"DHL Invoice Reader\",font=(\"Arial\",15,\"bold\"),bg=\"grey\",fg=\"black\",relief=tk.FLAT,justify=tk.CENTER)\n",
        "label.pack(padx=25,pady=25)\n",
        "\n",
        "def button_clicked():\n",
        "\n",
        "    d2df=pds.DataFrame()\n",
        "    if len(os.listdir('U:/source/'))>0:\n",
        "        files=os.fsencode(\"U:/source\")\n",
        "        for file in os.listdir(files):\n",
        "            filename=os.fsdecode(file)\n",
        "            if filename.endswith(\".pdf\"):\n",
        "                path='U:/source/'+filename\n",
        "                reader=PdfReader(path)\n",
        "                #Data Wrangling\n",
        "                pages=reader.pages[0]\n",
        "                text=pages.extract_text().split(\"\\n\")\n",
        "                data1=str(text[18])+str(text[19])+str(text[20])\n",
        "                data2=data1.split(\":\")\n",
        "\n",
        "                res2=[]\n",
        "                for i in data2:\n",
        "                      data2=i.replace('\\xa0',\"#\")\n",
        "                      res2.append(data2)\n",
        "\n",
        "                res3=[]\n",
        "                for j in res2:\n",
        "                     res2=j.replace('#',\"\")\n",
        "                     res3.append(res2)\n",
        "\n",
        "                re1=res3[1][:10]\n",
        "                re2=res3[1][10:]\n",
        "                re3=res3[2][:11]\n",
        "                re4=res3[2][11:]\n",
        "\n",
        "                res3.pop(1)\n",
        "                res3.pop(1)\n",
        "\n",
        "\n",
        "                res3.insert(1,re1)\n",
        "                res3.insert(2,re2)\n",
        "                res3.insert(3,re3)\n",
        "                res3.insert(4,re4)\n",
        "\n",
        "                r1=[]\n",
        "                r2=[]\n",
        "                for i in range(len(res3)):\n",
        "                   if i%2==0:\n",
        "                        r1.append(res3[i])\n",
        "                   else:\n",
        "                        r2.append(res3[i])\n",
        "\n",
        "                data3=text[24]\n",
        "                data4=data3.split(\" \")\n",
        "\n",
        "                var=data4[:4]\n",
        "                var1=data4[4:]\n",
        "                var1[1:]=[\" \".join(var1[1:])]\n",
        "\n",
        "                res4=[]\n",
        "                for item in var1:\n",
        "                   item=item.replace(\":\",\"\")\n",
        "                   res4.append(item)\n",
        "\n",
        "                for i in range(2):\n",
        "                    if i%2==0:\n",
        "                       r1.append(res4[i])\n",
        "                    else:\n",
        "                       r2.append(res4[i])\n",
        "\n",
        "                res=[]\n",
        "\n",
        "                for i in var:\n",
        "                    i=i.replace(\"':\",\"\").replace(\"',\",\"\").replace(\"'\",\"\").replace(\"[\",\"\").replace(\":\",\"\")\n",
        "                    res.append(i)\n",
        "                data5=text[25]\n",
        "\n",
        "                data6=data5.split(\" \")\n",
        "                data6=data6[:4]\n",
        "                res6=[]\n",
        "                for item in data6:\n",
        "                   item=item.replace(\":\",\"\")\n",
        "                   res6.append(item)\n",
        "\n",
        "                r3=[]\n",
        "                r4=[]\n",
        "                for i in range(4):\n",
        "                   if i%2==0:\n",
        "                      r3.append(res6[i])\n",
        "                   else:\n",
        "                      r4.append(res6[i])\n",
        "\n",
        "                for i in range (4):\n",
        "                     if i%2==0:\n",
        "                        r3.append(res[i])\n",
        "                     else:\n",
        "                        r4.append(res[i])\n",
        "                r3.insert(0,r3[2])\n",
        "                r3.pop(3)\n",
        "\n",
        "                r4.insert(0,r4[2])\n",
        "                r4.pop(3)\n",
        "                d1=dict(zip(r1,r2))\n",
        "\n",
        "                d2=dict(zip(r3,r4))\n",
        "                d1.update(d2)\n",
        "                d1df=pds.DataFrame(d1,index=[0])\n",
        "\n",
        "                d2df=d2df.append(d1df,ignore_index=True)\n",
        "                print(\"d2df\",d2df)\n",
        "\n",
        "                dpath='U:/destination/'\n",
        "                dest_path=f'{dpath}{filename}'\n",
        "                shutil.move(path,dest_path)\n",
        "\n",
        "        e_path='U:/DHL_Invoice_Details.xlsx'\n",
        "        existing_file=pds.read_excel(e_path)\n",
        "        book=load_workbook(e_path)\n",
        "        writer=pds.ExcelWriter(e_path,engine='openpyxl')\n",
        "        writer.book=book\n",
        "\n",
        "        #Appending Data to the Excel file\n",
        "\n",
        "        writer.sheets=dict((ws.title,ws) for ws in book.worksheets)\n",
        "        d2df.to_excel(writer,sheet_name=\"DHL_Invoice\",index=False,header=False,startrow=writer.sheets['DHL_Invoice'].max_row)\n",
        "        writer.save()\n",
        "\n",
        "        messagebox.showinfo(title=\"Message\",message=\"Successfully updated the Invoice details to Excel File 'DHL_Invoice Reader'.Location: 'U:/DHL_Invoice_Details.xlsx'\")\n",
        "\n",
        "    else:\n",
        "        messagebox.showerror(title=\"Warning\",message=\"Your Source File is Empty...!!!\")\n",
        "\n",
        "# Button to trigger the process\n",
        "button=tk.Button(root,text=\"Click Me\",bg=\"grey\",fg=\"black\",highlightthickness=2,relief=tk.RAISED,command=button_clicked)\n",
        "button.pack(padx=15,pady=15)\n",
        "root.mainloop()"
      ]
    },
    {
      "cell_type": "code",
      "execution_count": null,
      "id": "33e2ea2e",
      "metadata": {
        "id": "33e2ea2e"
      },
      "outputs": [],
      "source": []
    },
    {
      "cell_type": "raw",
      "id": "9480f1a6",
      "metadata": {
        "id": "9480f1a6"
      },
      "source": []
    },
    {
      "cell_type": "code",
      "execution_count": null,
      "id": "050d8949",
      "metadata": {
        "id": "050d8949"
      },
      "outputs": [],
      "source": []
    },
    {
      "cell_type": "code",
      "execution_count": null,
      "id": "2bf77746",
      "metadata": {
        "id": "2bf77746"
      },
      "outputs": [],
      "source": []
    },
    {
      "cell_type": "code",
      "execution_count": null,
      "id": "83779e6d",
      "metadata": {
        "id": "83779e6d"
      },
      "outputs": [],
      "source": []
    }
  ],
  "metadata": {
    "kernelspec": {
      "display_name": "Python 3 (ipykernel)",
      "language": "python",
      "name": "python3"
    },
    "language_info": {
      "codemirror_mode": {
        "name": "ipython",
        "version": 3
      },
      "file_extension": ".py",
      "mimetype": "text/x-python",
      "name": "python",
      "nbconvert_exporter": "python",
      "pygments_lexer": "ipython3",
      "version": "3.9.7"
    },
    "varInspector": {
      "cols": {
        "lenName": 16,
        "lenType": 16,
        "lenVar": 40
      },
      "kernels_config": {
        "python": {
          "delete_cmd_postfix": "",
          "delete_cmd_prefix": "del ",
          "library": "var_list.py",
          "varRefreshCmd": "print(var_dic_list())"
        },
        "r": {
          "delete_cmd_postfix": ") ",
          "delete_cmd_prefix": "rm(",
          "library": "var_list.r",
          "varRefreshCmd": "cat(var_dic_list()) "
        }
      },
      "types_to_exclude": [
        "module",
        "function",
        "builtin_function_or_method",
        "instance",
        "_Feature"
      ],
      "window_display": false
    },
    "colab": {
      "provenance": []
    }
  },
  "nbformat": 4,
  "nbformat_minor": 5
}