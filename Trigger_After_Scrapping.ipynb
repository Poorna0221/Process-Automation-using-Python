{
  "nbformat": 4,
  "nbformat_minor": 0,
  "metadata": {
    "colab": {
      "provenance": []
    },
    "kernelspec": {
      "name": "python3",
      "display_name": "Python 3"
    },
    "language_info": {
      "name": "python"
    }
  },
  "cells": [
    {
      "cell_type": "code",
      "execution_count": null,
      "metadata": {
        "id": "17QZzc-AYyJq"
      },
      "outputs": [],
      "source": [
        "#import Statements\n",
        "import pandas as pd\n",
        "import openpyxl\n",
        "from openpyxl import load_workbook"
      ]
    },
    {
      "cell_type": "code",
      "source": [
        "#  Brain  #\n",
        "\n",
        "#  excel_file-->BOE raw file\n",
        "#  Output_file--> copy of excel_file--BOE PN-10 digit trimmed\n",
        "#  excel2--> Cargo (Use Std Name --eg:\"Int_Freight.xlsx\")\n",
        "#  excel4--> RM Dimension(Master File)\n",
        "#  merged_data3--> Complete file(After mapping with cargo and part number drill) ******** Usable file\n",
        "#  merged_data4--> Only available in cargo ********** Feed to KPI\n",
        "#  ********************** Appart from mentioned variable rest are intermediate declaration ******************************\n",
        "\n"
      ],
      "metadata": {
        "id": "t9K59cBAZEgy"
      },
      "execution_count": null,
      "outputs": []
    },
    {
      "cell_type": "code",
      "source": [
        "excel_file=\"BOE-Raw_Data.xlsx\"\n",
        "df=pd.read_excel(excel_file)\n",
        "df['10Digit PN']=df['Part_Number'].astype(str).str[:10]\n",
        "output_excel=\"Copy_of_BOE.xlsx\"\n",
        "df.to_excel(output_excel,index=False)"
      ],
      "metadata": {
        "id": "tP69fNGOZFsj"
      },
      "execution_count": null,
      "outputs": []
    },
    {
      "cell_type": "code",
      "source": [
        "path1=\"Copy_of_BOE.xlsx\"\n",
        "excel1=pd.read_excel(path1)\n",
        "path2=\"Int_Freight.xlsx\"\n",
        "excel2=pd.read_excel(path2)"
      ],
      "metadata": {
        "id": "p7yFhAzQZIJv"
      },
      "execution_count": null,
      "outputs": []
    },
    {
      "cell_type": "code",
      "source": [
        "### first row header from Cargo\n",
        "excel3=pd.read_excel(path2,header=1)\n",
        "excel3"
      ],
      "metadata": {
        "id": "apH0i0gBZLPZ"
      },
      "execution_count": null,
      "outputs": []
    },
    {
      "cell_type": "code",
      "source": [
        "# Filtering without '/' in HAWB\n",
        "excel3_unique=excel3[~excel3['SHIPMENT_ID'].astype(str).str.contains('/')]\n",
        "excel3_unique=excel3_unique.drop_duplicates(subset='BOE_NUMBER')\n",
        "excel3_unique"
      ],
      "metadata": {
        "id": "wj-aASqvZOuI"
      },
      "execution_count": null,
      "outputs": []
    },
    {
      "cell_type": "code",
      "source": [
        "# Mapping missed HAWB no with ref to BOE from Cargo\n",
        "merged_data=pd.merge(excel1,excel3_unique[['BOE_NUMBER','SHIPMENT_ID']],how='left',left_on='BOE',right_on='BOE_NUMBER')\n",
        "merged_data.drop(columns='BOE_NUMBER',inplace=True)\n",
        "merged_data['HAWB']=merged_data['HAWB'].fillna(merged_data['SHIPMENT_ID'])\n",
        "merged_data.drop(columns='SHIPMENT_ID',inplace=True)\n",
        "merged_data"
      ],
      "metadata": {
        "id": "s-_l3V2yZRv8"
      },
      "execution_count": null,
      "outputs": []
    },
    {
      "cell_type": "code",
      "source": [
        "# Mapping the required data from cargo\n",
        "merged_data1=pd.merge(merged_data,excel3_unique[['SHIPMENT_ID','BUSINESS_CASE','ORIGIN_COUNTRY','DESTINATION_COUNTRY','FORWARDER_NAME','FREIGHT_MODE','SERVICE_TYPE_DESCRIPTION','INCOTERM','CHARGEABLE_WEIGHT','VOLUME','COST_CENTER','PAYMENT_AMOUNT_NET']],how='left',left_on='HAWB',right_on='SHIPMENT_ID')\n",
        "merged_data1.drop(columns='SHIPMENT_ID',inplace=True)\n",
        "\n",
        "merged_data1"
      ],
      "metadata": {
        "id": "ubZa4HOwZVlm"
      },
      "execution_count": null,
      "outputs": []
    },
    {
      "cell_type": "code",
      "source": [
        "merged_data1['10Digit PN']=merged_data1['10Digit PN'].astype(object)\n"
      ],
      "metadata": {
        "id": "otPVzj3wZX2P"
      },
      "execution_count": null,
      "outputs": []
    },
    {
      "cell_type": "code",
      "source": [
        "path3=\"RM Dimension.xlsx\"\n",
        "excel4=pd.read_excel(path3)"
      ],
      "metadata": {
        "id": "qCc_NCGHZZnt"
      },
      "execution_count": null,
      "outputs": []
    },
    {
      "cell_type": "code",
      "source": [
        "merged_data2=pd.merge(merged_data1,excel4[[\"PN without '.'\",'Pallet/Primary','Working_CBM','Chargeable Wt']],how='left',left_on='10Digit PN',right_on=\"PN without '.'\")\n",
        "merged_data2.drop(columns=\"PN without '.'\",inplace=True)\n",
        "merged_data2"
      ],
      "metadata": {
        "id": "pklHAX93Zbow"
      },
      "execution_count": null,
      "outputs": []
    },
    {
      "cell_type": "code",
      "source": [
        "merged_data2['Pallet/Primary']=merged_data2['Pallet/Primary'].astype(float)"
      ],
      "metadata": {
        "id": "3Skj8e_9Ze9D"
      },
      "execution_count": null,
      "outputs": []
    },
    {
      "cell_type": "code",
      "source": [
        "merged_data2['Calc']=merged_data2.apply(lambda row:((row['Working_CBM']/row['Pallet/Primary']) * row['QTY']) if row['FREIGHT_MODE']=='SF'and row['Pallet/Primary']>0 and row['Working_CBM']>0 else ((row['Chargeable Wt']/row['Pallet/Primary'])* row['QTY']) if row['FREIGHT_MODE']=='AF'and row['Pallet/Primary']>0 and row['Chargeable Wt']>0 else row['Chargeable Wt'],axis=1)"
      ],
      "metadata": {
        "id": "Ii733arfZgDA"
      },
      "execution_count": null,
      "outputs": []
    },
    {
      "cell_type": "code",
      "source": [
        "invoice_sum=merged_data2.groupby('HAWB')['Calc'].transform('sum')\n",
        "invoice_sum"
      ],
      "metadata": {
        "id": "MXNrdexuZpgl"
      },
      "execution_count": null,
      "outputs": []
    },
    {
      "cell_type": "code",
      "source": [
        "qty_sum=merged_data2.groupby('HAWB')['QTY'].transform('sum')\n",
        "qty_sum"
      ],
      "metadata": {
        "id": "UqkHouh7ZtS2"
      },
      "execution_count": null,
      "outputs": []
    },
    {
      "cell_type": "code",
      "source": [
        "merged_data2['Ratio']=merged_data2['Calc']/invoice_sum\n",
        "merged_data2"
      ],
      "metadata": {
        "id": "xby4wuG7ZwUp"
      },
      "execution_count": null,
      "outputs": []
    },
    {
      "cell_type": "code",
      "source": [
        "merged_data2['ratio2']=merged_data2['QTY']/qty_sum\n",
        "merged_data2"
      ],
      "metadata": {
        "id": "gI_QU3V3ZyLH"
      },
      "execution_count": null,
      "outputs": []
    },
    {
      "cell_type": "code",
      "source": [
        "#  After considering calc and qty\n",
        "merged_data2['Ratio']=merged_data2['Ratio'].fillna(merged_data2['ratio2'])\n",
        "# merged_data2.drop(columns='SHIPMENT_ID',inplace=True)\n",
        "merged_data2"
      ],
      "metadata": {
        "id": "_30LE1fRZ1LT"
      },
      "execution_count": null,
      "outputs": []
    },
    {
      "cell_type": "code",
      "source": [
        "merged_data2['Per part Price']=merged_data2['Ratio']*merged_data2['PAYMENT_AMOUNT_NET']\n",
        "merged_data2"
      ],
      "metadata": {
        "id": "e55bdKaMZ3l7"
      },
      "execution_count": null,
      "outputs": []
    },
    {
      "cell_type": "code",
      "source": [
        "## Copy of Cargo booked\n",
        "\n",
        "merged_data3=pd.merge(merged_data2,excel3_unique['SHIPMENT_ID'],how='left',left_on='HAWB',right_on='SHIPMENT_ID')\n",
        "# merged_data2.drop(columns='BOE_NUMBER',inplace=True)\n",
        "merged_data3\n",
        "merged_data4=merged_data3[merged_data3['SHIPMENT_ID'].notnull()]\n",
        "merged_data4"
      ],
      "metadata": {
        "id": "on_4rYOTZ59s"
      },
      "execution_count": null,
      "outputs": []
    },
    {
      "cell_type": "code",
      "source": [
        "e_path='Cargo_Map.xlsx'\n",
        "existing_file=pd.read_excel(e_path)\n",
        "book=load_workbook(e_path)\n",
        "writer=pd.ExcelWriter(e_path,engine='openpyxl')\n",
        "writer.book=book\n",
        "\n",
        "writer.sheets=dict((ws.title,ws) for ws in book.worksheets)\n",
        "merged_data4.to_excel(writer,sheet_name='Cargo_Mapped',index=False,header=False,startrow=writer.sheets['Cargo_Mapped'].max_row)\n",
        "writer.save()"
      ],
      "metadata": {
        "id": "7XE1awIvZ825"
      },
      "execution_count": null,
      "outputs": []
    }
  ]
}